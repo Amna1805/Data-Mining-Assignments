{
 "cells": [
  {
   "cell_type": "markdown",
   "id": "e21b8f00",
   "metadata": {},
   "source": [
    "<div style=\"text-align:center\">\n",
    "  <h3 style=\"color:red\">Amna Muzaffar:04072013003</h3>\n",
    "  <h3 style=\"color:red\">Laiba bibi:04072013016</h3>\n",
    "   <h3 style=\"color:red\">G7:Final Assignment</h3>\n",
    "</div>"
   ]
  },
  {
   "cell_type": "markdown",
   "id": "6cac0c0b",
   "metadata": {},
   "source": [
    "\n",
    "<h1 style='color:#196178'>Import Libraries </h1>"
   ]
  },
  {
   "cell_type": "code",
   "execution_count": 1,
   "id": "95d7fd9f",
   "metadata": {},
   "outputs": [],
   "source": [
    "import pandas as pd\n",
    "import numpy as np\n",
    "import matplotlib.pyplot as plt"
   ]
  },
  {
   "cell_type": "markdown",
   "id": "b8c63dba",
   "metadata": {},
   "source": [
    "<h2 style='color:#196178'>Loading Data</h2>"
   ]
  },
  {
   "cell_type": "code",
   "execution_count": 2,
   "id": "32dae488",
   "metadata": {},
   "outputs": [],
   "source": [
    "records=np.loadtxt(\"data.csv\",delimiter=\";\",dtype=\"str\")\n",
    "data=np.delete(records,0,axis=0)\n",
    "finaldata=data[:,7:13]"
   ]
  },
  {
   "cell_type": "markdown",
   "id": "bebb6723",
   "metadata": {},
   "source": [
    "<h2 style='color:#196178'>Pre-Processing</h2>\n",
    "<h3 style='color:#196178'>Standarize and Normalize data</h3>\n",
    "<p>Data preprocessing such as scaling/normalization is typically useful for \n",
    "linear models to accelerate the training convergence.</p>"
   ]
  },
  {
   "cell_type": "code",
   "execution_count": 3,
   "id": "d60af45a",
   "metadata": {},
   "outputs": [],
   "source": [
    "from sklearn.preprocessing import normalize, StandardScaler\n",
    "standarddata=StandardScaler().fit_transform(finaldata)\n",
    "normalizedata=normalize(standarddata,norm=\"l1\")\n"
   ]
  },
  {
   "cell_type": "markdown",
   "id": "ffe59412",
   "metadata": {},
   "source": [
    " <h3 style='color:#196178'>Feature matrix and Class label</h3>\n",
    " <p>Here X is our Feature Matrix for Anaylysis and Y is used after model is trained to compare accuracy.</p>"
   ]
  },
  {
   "cell_type": "code",
   "execution_count": 4,
   "id": "561edaa9",
   "metadata": {},
   "outputs": [],
   "source": [
    "X=normalizedata\n",
    "Y=data[:,32]"
   ]
  },
  {
   "cell_type": "markdown",
   "id": "384c3c9c",
   "metadata": {},
   "source": [
    "<h2 style='color:#196178'>Dataset Train/Test Split</h2>\n",
    "<p>The dataset is now ready for building the classification models, we first divide the pre-processed dataset into a subset to be used for training the model (the train set) and a subset to be used for evaluating the quality of the model (the test set).</p>"
   ]
  },
  {
   "cell_type": "code",
   "execution_count": 5,
   "id": "fa5e5d5c",
   "metadata": {},
   "outputs": [
    {
     "name": "stdout",
     "output_type": "stream",
     "text": [
      "X_train.shape= (116, 6) Y_train.shape= (116,)\n",
      "X_test.shape= (29, 6) Y_test.shape= (29,)\n"
     ]
    }
   ],
   "source": [
    "from sklearn.model_selection import train_test_split\n",
    "X_train,X_test,y_train,y_test=train_test_split(X,Y,test_size=0.2,random_state=3)\n",
    "print('X_train.shape=', X_train.shape, 'Y_train.shape=', y_train.shape)\n",
    "print('X_test.shape=', X_test.shape, 'Y_test.shape=', y_test.shape)"
   ]
  },
  {
   "cell_type": "markdown",
   "id": "c08f7e54",
   "metadata": {},
   "source": [
    "<h1 style='color:#196178'>Classification Algorithms</h1>\n"
   ]
  },
  {
   "cell_type": "markdown",
   "id": "867656b0",
   "metadata": {},
   "source": [
    "<h2 style='color:#196178'>1.Decision Tree Classifier Model</h2> \n",
    "<p>A decision tree is a supervised learning algorithm that is perfect for classification problems, as it’s able to order classes on a precise level. It works like a flow chart, separating data points into  similar categories at a time from the “tree trunk” to “branches,” to “leaves,” where the categories become more finitely similar.It is simple to understand and visualise, requires little data preparation, and can handle both numerical and categorical data. Their simple reasoning, along with their hierarchical structure, makes this an ideal candidate for usage, even by people unrelated to machine learning.They are fast, efficient, and work with all kinds of data, both numerical and categorical, discrete or continuous.</p>\n",
    "<h3 style='color:#196178'>Modeling</h3> \n",
    " <p>We will first create an instance of the <b>DecisionTreeClassifier</b> called <b>std_Tree</b>.<br>\n",
    "    Inside of the classifier, specify <i> criterion=\"entropy\" </i>, <i> max_depth=\"entropy\" </i> and <i> random_state=4 </i>  so we can see the information gain of each node.And random state to train model similar at each run</p>"
   ]
  },
  {
   "cell_type": "code",
   "execution_count": 6,
   "id": "229cd384",
   "metadata": {},
   "outputs": [],
   "source": [
    "from sklearn.tree import DecisionTreeClassifier\n",
    "std_tree=DecisionTreeClassifier(max_depth=4,criterion=\"entropy\",random_state=4)\n"
   ]
  },
  {
   "cell_type": "markdown",
   "id": "9062f329",
   "metadata": {},
   "source": [
    "Next, we will fit the data with the training feature matrix <b> X_train </b> and training  response vector <b> y_train </b>"
   ]
  },
  {
   "cell_type": "code",
   "execution_count": 7,
   "id": "9a42b61b",
   "metadata": {},
   "outputs": [
    {
     "data": {
      "text/html": [
       "<style>#sk-container-id-1 {color: black;background-color: white;}#sk-container-id-1 pre{padding: 0;}#sk-container-id-1 div.sk-toggleable {background-color: white;}#sk-container-id-1 label.sk-toggleable__label {cursor: pointer;display: block;width: 100%;margin-bottom: 0;padding: 0.3em;box-sizing: border-box;text-align: center;}#sk-container-id-1 label.sk-toggleable__label-arrow:before {content: \"▸\";float: left;margin-right: 0.25em;color: #696969;}#sk-container-id-1 label.sk-toggleable__label-arrow:hover:before {color: black;}#sk-container-id-1 div.sk-estimator:hover label.sk-toggleable__label-arrow:before {color: black;}#sk-container-id-1 div.sk-toggleable__content {max-height: 0;max-width: 0;overflow: hidden;text-align: left;background-color: #f0f8ff;}#sk-container-id-1 div.sk-toggleable__content pre {margin: 0.2em;color: black;border-radius: 0.25em;background-color: #f0f8ff;}#sk-container-id-1 input.sk-toggleable__control:checked~div.sk-toggleable__content {max-height: 200px;max-width: 100%;overflow: auto;}#sk-container-id-1 input.sk-toggleable__control:checked~label.sk-toggleable__label-arrow:before {content: \"▾\";}#sk-container-id-1 div.sk-estimator input.sk-toggleable__control:checked~label.sk-toggleable__label {background-color: #d4ebff;}#sk-container-id-1 div.sk-label input.sk-toggleable__control:checked~label.sk-toggleable__label {background-color: #d4ebff;}#sk-container-id-1 input.sk-hidden--visually {border: 0;clip: rect(1px 1px 1px 1px);clip: rect(1px, 1px, 1px, 1px);height: 1px;margin: -1px;overflow: hidden;padding: 0;position: absolute;width: 1px;}#sk-container-id-1 div.sk-estimator {font-family: monospace;background-color: #f0f8ff;border: 1px dotted black;border-radius: 0.25em;box-sizing: border-box;margin-bottom: 0.5em;}#sk-container-id-1 div.sk-estimator:hover {background-color: #d4ebff;}#sk-container-id-1 div.sk-parallel-item::after {content: \"\";width: 100%;border-bottom: 1px solid gray;flex-grow: 1;}#sk-container-id-1 div.sk-label:hover label.sk-toggleable__label {background-color: #d4ebff;}#sk-container-id-1 div.sk-serial::before {content: \"\";position: absolute;border-left: 1px solid gray;box-sizing: border-box;top: 0;bottom: 0;left: 50%;z-index: 0;}#sk-container-id-1 div.sk-serial {display: flex;flex-direction: column;align-items: center;background-color: white;padding-right: 0.2em;padding-left: 0.2em;position: relative;}#sk-container-id-1 div.sk-item {position: relative;z-index: 1;}#sk-container-id-1 div.sk-parallel {display: flex;align-items: stretch;justify-content: center;background-color: white;position: relative;}#sk-container-id-1 div.sk-item::before, #sk-container-id-1 div.sk-parallel-item::before {content: \"\";position: absolute;border-left: 1px solid gray;box-sizing: border-box;top: 0;bottom: 0;left: 50%;z-index: -1;}#sk-container-id-1 div.sk-parallel-item {display: flex;flex-direction: column;z-index: 1;position: relative;background-color: white;}#sk-container-id-1 div.sk-parallel-item:first-child::after {align-self: flex-end;width: 50%;}#sk-container-id-1 div.sk-parallel-item:last-child::after {align-self: flex-start;width: 50%;}#sk-container-id-1 div.sk-parallel-item:only-child::after {width: 0;}#sk-container-id-1 div.sk-dashed-wrapped {border: 1px dashed gray;margin: 0 0.4em 0.5em 0.4em;box-sizing: border-box;padding-bottom: 0.4em;background-color: white;}#sk-container-id-1 div.sk-label label {font-family: monospace;font-weight: bold;display: inline-block;line-height: 1.2em;}#sk-container-id-1 div.sk-label-container {text-align: center;}#sk-container-id-1 div.sk-container {/* jupyter's `normalize.less` sets `[hidden] { display: none; }` but bootstrap.min.css set `[hidden] { display: none !important; }` so we also need the `!important` here to be able to override the default hidden behavior on the sphinx rendered scikit-learn.org. See: https://github.com/scikit-learn/scikit-learn/issues/21755 */display: inline-block !important;position: relative;}#sk-container-id-1 div.sk-text-repr-fallback {display: none;}</style><div id=\"sk-container-id-1\" class=\"sk-top-container\"><div class=\"sk-text-repr-fallback\"><pre>DecisionTreeClassifier(criterion=&#x27;entropy&#x27;, max_depth=4, random_state=4)</pre><b>In a Jupyter environment, please rerun this cell to show the HTML representation or trust the notebook. <br />On GitHub, the HTML representation is unable to render, please try loading this page with nbviewer.org.</b></div><div class=\"sk-container\" hidden><div class=\"sk-item\"><div class=\"sk-estimator sk-toggleable\"><input class=\"sk-toggleable__control sk-hidden--visually\" id=\"sk-estimator-id-1\" type=\"checkbox\" checked><label for=\"sk-estimator-id-1\" class=\"sk-toggleable__label sk-toggleable__label-arrow\">DecisionTreeClassifier</label><div class=\"sk-toggleable__content\"><pre>DecisionTreeClassifier(criterion=&#x27;entropy&#x27;, max_depth=4, random_state=4)</pre></div></div></div></div></div>"
      ],
      "text/plain": [
       "DecisionTreeClassifier(criterion='entropy', max_depth=4, random_state=4)"
      ]
     },
     "execution_count": 7,
     "metadata": {},
     "output_type": "execute_result"
    }
   ],
   "source": [
    "std_tree.fit(X_train,y_train)"
   ]
  },
  {
   "cell_type": "markdown",
   "id": "187b32e2",
   "metadata": {},
   "source": [
    "<h3 style='color:#196178'>Prediction</h3> "
   ]
  },
  {
   "cell_type": "code",
   "execution_count": 8,
   "id": "b2dcfbaa",
   "metadata": {},
   "outputs": [],
   "source": [
    "pred_tree=std_tree.predict(X_test)"
   ]
  },
  {
   "cell_type": "markdown",
   "id": "196c1f9a",
   "metadata": {},
   "source": [
    "Now we can print out <b>pred_Tree</b> and <b>y_test</b> if we want to visually compare the predictions to the actual values.\n"
   ]
  },
  {
   "cell_type": "code",
   "execution_count": 9,
   "id": "f7968cab",
   "metadata": {},
   "outputs": [
    {
     "name": "stdout",
     "output_type": "stream",
     "text": [
      "Actual Values: ['3' '5' '1' '3' '1']\n",
      "Predicted Values: ['5' '1' '5' '2' '2']\n"
     ]
    }
   ],
   "source": [
    "print(\"Actual Values:\",y_test[0:5])\n",
    "print(\"Predicted Values:\",pred_tree[0:5])"
   ]
  },
  {
   "cell_type": "markdown",
   "id": "0e177686",
   "metadata": {},
   "source": [
    "<h3 style='color:#196178'>Visualization</h3> "
   ]
  },
  {
   "cell_type": "code",
   "execution_count": 10,
   "id": "90f22576",
   "metadata": {},
   "outputs": [
    {
     "data": {
      "image/png": "[encoded data removed]",
      "text/plain": [
       "<Figure size 640x480 with 1 Axes>"
      ]
     },
     "metadata": {},
     "output_type": "display_data"
    }
   ],
   "source": [
    "import sklearn.tree as tree\n",
    "tree.plot_tree(std_tree)\n",
    "plt.show()"
   ]
  },
  {
   "cell_type": "markdown",
   "id": "b0becab8",
   "metadata": {},
   "source": [
    "<h3 style='color:#196178'>Evaluation</h3> \n",
    "   Now we will import <b>metrics(Precision and Recall)</b> from sklearn and check the accuracy of our model.\n",
    " <h4 style='color:#196178'>Precision and Recall</h4> "
   ]
  },
  {
   "cell_type": "code",
   "execution_count": 11,
   "id": "7f81dedf",
   "metadata": {},
   "outputs": [
    {
     "name": "stdout",
     "output_type": "stream",
     "text": [
      "Precision of Decision Tree Model Train is: 0.2967032967032967\n",
      "Recall of Decision Tree Model Train is: 0.07857142857142857\n"
     ]
    }
   ],
   "source": [
    "from sklearn.metrics import precision_score,recall_score\n",
    "precision_tree=precision_score(y_test,pred_tree,average='macro',zero_division=1)\n",
    "recall_tree=recall_score(y_test,pred_tree,average='macro',zero_division=1)\n",
    "print(\"Precision of Decision Tree Model Train is:\",precision_tree)\n",
    "print(\"Recall of Decision Tree Model Train is:\",recall_tree)"
   ]
  },
  {
   "cell_type": "markdown",
   "id": "65de0622",
   "metadata": {},
   "source": [
    "<h2 style='color:#196178'>2.K Nearest Neigbour</h2> \n",
    "<p>The k-nearest neighbor algorithm is a type of supervised machine learning algorithm used to solve classification and regression problems. However, it's mainly used for classification problems.It doesn't build a model until a query is performed on the dataset. This makes KNN ideal for data mining.It's ideal for non-linear data since there's no assumption about underlying data and  can naturally handle multi-class cases and can perform well with enough representative data.It performs good with smaller daat set as we can see in our case that we have less data and  have less number of features and most importantly we have mutliclass labesl so it will work better and will provide better results. </p>\n",
    "<h3 style='color:#196178'>Modeling</h3>\n",
    "\n",
    " <p>We will first create an instance of the <b>KNeighborClassifier</b> called <b>std_Tree</b>.<br>\n",
    "    Inside of the classifier, specify <i> n_neigbors=4 </i>\n",
    " "
   ]
  },
  {
   "cell_type": "code",
   "execution_count": 12,
   "id": "ee863d94",
   "metadata": {},
   "outputs": [
    {
     "data": {
      "text/html": [
       "<style>#sk-container-id-2 {color: black;background-color: white;}#sk-container-id-2 pre{padding: 0;}#sk-container-id-2 div.sk-toggleable {background-color: white;}#sk-container-id-2 label.sk-toggleable__label {cursor: pointer;display: block;width: 100%;margin-bottom: 0;padding: 0.3em;box-sizing: border-box;text-align: center;}#sk-container-id-2 label.sk-toggleable__label-arrow:before {content: \"▸\";float: left;margin-right: 0.25em;color: #696969;}#sk-container-id-2 label.sk-toggleable__label-arrow:hover:before {color: black;}#sk-container-id-2 div.sk-estimator:hover label.sk-toggleable__label-arrow:before {color: black;}#sk-container-id-2 div.sk-toggleable__content {max-height: 0;max-width: 0;overflow: hidden;text-align: left;background-color: #f0f8ff;}#sk-container-id-2 div.sk-toggleable__content pre {margin: 0.2em;color: black;border-radius: 0.25em;background-color: #f0f8ff;}#sk-container-id-2 input.sk-toggleable__control:checked~div.sk-toggleable__content {max-height: 200px;max-width: 100%;overflow: auto;}#sk-container-id-2 input.sk-toggleable__control:checked~label.sk-toggleable__label-arrow:before {content: \"▾\";}#sk-container-id-2 div.sk-estimator input.sk-toggleable__control:checked~label.sk-toggleable__label {background-color: #d4ebff;}#sk-container-id-2 div.sk-label input.sk-toggleable__control:checked~label.sk-toggleable__label {background-color: #d4ebff;}#sk-container-id-2 input.sk-hidden--visually {border: 0;clip: rect(1px 1px 1px 1px);clip: rect(1px, 1px, 1px, 1px);height: 1px;margin: -1px;overflow: hidden;padding: 0;position: absolute;width: 1px;}#sk-container-id-2 div.sk-estimator {font-family: monospace;background-color: #f0f8ff;border: 1px dotted black;border-radius: 0.25em;box-sizing: border-box;margin-bottom: 0.5em;}#sk-container-id-2 div.sk-estimator:hover {background-color: #d4ebff;}#sk-container-id-2 div.sk-parallel-item::after {content: \"\";width: 100%;border-bottom: 1px solid gray;flex-grow: 1;}#sk-container-id-2 div.sk-label:hover label.sk-toggleable__label {background-color: #d4ebff;}#sk-container-id-2 div.sk-serial::before {content: \"\";position: absolute;border-left: 1px solid gray;box-sizing: border-box;top: 0;bottom: 0;left: 50%;z-index: 0;}#sk-container-id-2 div.sk-serial {display: flex;flex-direction: column;align-items: center;background-color: white;padding-right: 0.2em;padding-left: 0.2em;position: relative;}#sk-container-id-2 div.sk-item {position: relative;z-index: 1;}#sk-container-id-2 div.sk-parallel {display: flex;align-items: stretch;justify-content: center;background-color: white;position: relative;}#sk-container-id-2 div.sk-item::before, #sk-container-id-2 div.sk-parallel-item::before {content: \"\";position: absolute;border-left: 1px solid gray;box-sizing: border-box;top: 0;bottom: 0;left: 50%;z-index: -1;}#sk-container-id-2 div.sk-parallel-item {display: flex;flex-direction: column;z-index: 1;position: relative;background-color: white;}#sk-container-id-2 div.sk-parallel-item:first-child::after {align-self: flex-end;width: 50%;}#sk-container-id-2 div.sk-parallel-item:last-child::after {align-self: flex-start;width: 50%;}#sk-container-id-2 div.sk-parallel-item:only-child::after {width: 0;}#sk-container-id-2 div.sk-dashed-wrapped {border: 1px dashed gray;margin: 0 0.4em 0.5em 0.4em;box-sizing: border-box;padding-bottom: 0.4em;background-color: white;}#sk-container-id-2 div.sk-label label {font-family: monospace;font-weight: bold;display: inline-block;line-height: 1.2em;}#sk-container-id-2 div.sk-label-container {text-align: center;}#sk-container-id-2 div.sk-container {/* jupyter's `normalize.less` sets `[hidden] { display: none; }` but bootstrap.min.css set `[hidden] { display: none !important; }` so we also need the `!important` here to be able to override the default hidden behavior on the sphinx rendered scikit-learn.org. See: https://github.com/scikit-learn/scikit-learn/issues/21755 */display: inline-block !important;position: relative;}#sk-container-id-2 div.sk-text-repr-fallback {display: none;}</style><div id=\"sk-container-id-2\" class=\"sk-top-container\"><div class=\"sk-text-repr-fallback\"><pre>KNeighborsClassifier(n_neighbors=4)</pre><b>In a Jupyter environment, please rerun this cell to show the HTML representation or trust the notebook. <br />On GitHub, the HTML representation is unable to render, please try loading this page with nbviewer.org.</b></div><div class=\"sk-container\" hidden><div class=\"sk-item\"><div class=\"sk-estimator sk-toggleable\"><input class=\"sk-toggleable__control sk-hidden--visually\" id=\"sk-estimator-id-2\" type=\"checkbox\" checked><label for=\"sk-estimator-id-2\" class=\"sk-toggleable__label sk-toggleable__label-arrow\">KNeighborsClassifier</label><div class=\"sk-toggleable__content\"><pre>KNeighborsClassifier(n_neighbors=4)</pre></div></div></div></div></div>"
      ],
      "text/plain": [
       "KNeighborsClassifier(n_neighbors=4)"
      ]
     },
     "execution_count": 12,
     "metadata": {},
     "output_type": "execute_result"
    }
   ],
   "source": [
    "from sklearn.neighbors import KNeighborsClassifier\n",
    "neigh=KNeighborsClassifier(n_neighbors=4)\n",
    "neigh.fit(X_train,y_train)"
   ]
  },
  {
   "cell_type": "markdown",
   "id": "9767822d",
   "metadata": {},
   "source": [
    "<h3 style='color:#196178'>Prediction</h3> "
   ]
  },
  {
   "cell_type": "code",
   "execution_count": 13,
   "id": "5f244bc8",
   "metadata": {},
   "outputs": [],
   "source": [
    "pred_vals=neigh.predict(X_test)"
   ]
  },
  {
   "cell_type": "markdown",
   "id": "e4b1fd23",
   "metadata": {},
   "source": [
    "<h3 style='color:#196178'>Evaluation</h3> \n",
    "   Now we will import <b>metrics(Precision and Recall)</b> from sklearn and check the accuracy of our model.\n",
    " <h4 style='color:#196178'>Precision and Recall</h4> "
   ]
  },
  {
   "cell_type": "markdown",
   "id": "b00b504d",
   "metadata": {},
   "source": [
    "<h3 style='color:#196178'>KNN with best Value of K</h3> \n",
    "K in KNN, is the number of nearest neighbors to examine. It is supposed to be specified by the user.We can choose k =1, use the training part for modeling, and calculate the accuracy of prediction using all samples in your test set. Repeat this process, increasing the k, and see which k is the best for your model."
   ]
  },
  {
   "cell_type": "code",
   "execution_count": 14,
   "id": "f5889a22",
   "metadata": {},
   "outputs": [
    {
     "name": "stdout",
     "output_type": "stream",
     "text": [
      "The best Precsion is with 0.4888392857142857 with k= 8\n",
      "The best Recall is with 0.22142857142857142 with k= 1\n"
     ]
    }
   ],
   "source": [
    "ks=10\n",
    "prec_vals=np.zeros((ks-1))\n",
    "recall_vals=np.zeros((ks-1))\n",
    "for n in range(1,ks):\n",
    "    neigh = KNeighborsClassifier(n_neighbors = n).fit(X_train,y_train)\n",
    "    pred_vals=neigh.predict(X_test)\n",
    "    prec_vals[n-1] = precision_score(y_test,pred_vals,average='macro',zero_division=1)\n",
    "    recall_vals[n-1] = recall_score(y_test,pred_vals,average='macro',zero_division=1)\n",
    "precision_neigh=prec_vals.max()\n",
    "recall_neigh=recall_vals.max()\n",
    "print( \"The best Precsion is with\",precision_neigh, \"with k=\", prec_vals.argmax()+1) \n",
    "print( \"The best Recall is with\", recall_neigh, \"with k=\", recall_neigh.argmax()+1) \n"
   ]
  },
  {
   "cell_type": "markdown",
   "id": "9b134605",
   "metadata": {},
   "source": [
    "<h2 style='color:#196178'>Comparison of Decision Trees and K Nearest Neighbor</h2> "
   ]
  },
  {
   "cell_type": "code",
   "execution_count": 15,
   "id": "f4b4b809",
   "metadata": {},
   "outputs": [
    {
     "name": "stdout",
     "output_type": "stream",
     "text": [
      "+--------------------------+-------------+-----------+\n",
      "| Model                    |   Precision |    Recall |\n",
      "+==========================+=============+===========+\n",
      "| Decision Tree Classifier |    0.296703 | 0.0785714 |\n",
      "+--------------------------+-------------+-----------+\n",
      "| K Nearest Neighbor       |    0.488839 | 0.221429  |\n",
      "+--------------------------+-------------+-----------+\n"
     ]
    }
   ],
   "source": [
    "from tabulate import tabulate\n",
    "# Create a list of lists for the table\n",
    "table_data = [\n",
    "    [\"Decision Tree Classifier\", precision_tree, recall_tree],\n",
    "    [\"K Nearest Neighbor\", precision_neigh, recall_neigh]\n",
    "]\n",
    "# Format and print the table\n",
    "table = tabulate(table_data, headers=[\"Model\", \"Precision\", \"Recall\"], tablefmt=\"grid\")\n",
    "print(table)"
   ]
  },
  {
   "cell_type": "markdown",
   "id": "f034999c",
   "metadata": {},
   "source": [
    "<h3 style='color:#196178'>Conclusion</h3><p>Based on the provided precision and recall values, it is challenging to determine a clear winner between the Decision Tree Classifier and the K Nearest Neighbor algorithm. \n",
    "\n",
    "\n",
    "Based on precision, the K Nearest Neighbor algorithm has a higher value compared to the Decision Tree Classifier. Similarly, based on recall, the K Nearest Neighbor algorithm has a higher value compared to the Decision Tree Classifier.\n",
    "\n",
    "Considering both precision and recall, the K Nearest Neighbor algorithm outperforms the Decision Tree Classifier in terms of correctly labeling positive instances and overall performance.</p>\n",
    "\n",
    "<p style='color:red'><b>Note:We have not used Naive Bayes Alogrithm becauese it is mainly used in text classification</b></p>"
   ]
  },
  {
   "cell_type": "markdown",
   "id": "f12ddbdf",
   "metadata": {},
   "source": [
    "<h1 style='color:#196178'>Clustering Algorithms</h1>"
   ]
  },
  {
   "cell_type": "markdown",
   "id": "c5aaee7d",
   "metadata": {},
   "source": [
    "<h2 style='color:#196178'>1.K Means</h2> \n",
    "<p>K-Means Clustering is an Unsupervised Learning algorithm, which groups the unlabeled dataset into different clusters. Here K defines the number of pre-defined clusters that need to be created in the process, as if K=2, there will be two clusters, and for K=3, there will be three clusters, and so on.<br>\n",
    "It allows us to cluster the data into different groups and a convenient way to discover the categories of groups in the unlabeled dataset on its own without the need for any training.</p>\n",
    "\n",
    "<h3 style='color:#196178'>Modeling</h3> "
   ]
  },
  {
   "cell_type": "code",
   "execution_count": 16,
   "id": "b14c0a34",
   "metadata": {},
   "outputs": [
    {
     "name": "stderr",
     "output_type": "stream",
     "text": [
      "C:\\ProgramData\\anaconda3\\lib\\site-packages\\sklearn\\cluster\\_kmeans.py:1382: UserWarning: KMeans is known to have a memory leak on Windows with MKL, when there are less chunks than available threads. You can avoid it by setting the environment variable OMP_NUM_THREADS=1.\n",
      "  warnings.warn(\n"
     ]
    }
   ],
   "source": [
    "from sklearn.cluster import KMeans\n",
    "n_clusters=3\n",
    "K_means=KMeans(init=\"k-means++\",n_clusters=n_clusters,n_init=12)\n",
    "K_means.fit(X)\n",
    "labels=np.array(K_means.labels_)\n",
    "labels=labels.reshape(-1,1)"
   ]
  },
  {
   "cell_type": "markdown",
   "id": "793d3db4",
   "metadata": {},
   "source": [
    "<h3 style='color:#196178'>Prediction</h3> "
   ]
  },
  {
   "cell_type": "code",
   "execution_count": 17,
   "id": "ec261cf9",
   "metadata": {},
   "outputs": [],
   "source": [
    "k_mean_pred=K_means.predict(X)"
   ]
  },
  {
   "cell_type": "markdown",
   "id": "bfb4b441",
   "metadata": {},
   "source": [
    "<h3 style='color:#196178'>Insights</h3> \n",
    "We assign the labels to each row in the dataframe."
   ]
  },
  {
   "cell_type": "code",
   "execution_count": 18,
   "id": "1630f5b4",
   "metadata": {},
   "outputs": [
    {
     "data": {
      "text/plain": [
       "array([['2', '1', '1', ..., '1', '2', '0'],\n",
       "       ['2', '1', '1', ..., '2', '3', '0'],\n",
       "       ['2', '2', '4', ..., '2', '2', '1'],\n",
       "       ...,\n",
       "       ['2', '1', '1', ..., '3', '4', '0'],\n",
       "       ['1', '5', '2', ..., '4', '4', '1'],\n",
       "       ['2', '3', '1', ..., '3', '1', '0']], dtype='<U13')"
      ]
     },
     "execution_count": 18,
     "metadata": {},
     "output_type": "execute_result"
    }
   ],
   "source": [
    "X_new=np.append(finaldata,labels,axis=1)\n",
    "X_new"
   ]
  },
  {
   "cell_type": "markdown",
   "id": "51f5e6aa",
   "metadata": {},
   "source": [
    "<i>Here last column represents to which cluster this data object belongs.</i>"
   ]
  },
  {
   "cell_type": "markdown",
   "id": "01c31d69",
   "metadata": {},
   "source": [
    "<h3 style='color:#196178'>Visualization</h3> \n",
    "<p>As we cannot  directly plot clusters if we have more than 3 columns.So we just do this for two features</p>"
   ]
  },
  {
   "cell_type": "code",
   "execution_count": 19,
   "id": "f2bef05f",
   "metadata": {},
   "outputs": [
    {
     "data": {
      "image/png": "[encoded data removed]",
      "text/plain": [
       "<Figure size 640x480 with 1 Axes>"
      ]
     },
     "metadata": {},
     "output_type": "display_data"
    }
   ],
   "source": [
    "area = np.pi * ( X[:, 1])**2  \n",
    "plt.scatter(X_new[:,0 ], X_new[:,1], s=area, c=labels.astype(np.float64), alpha=0.5)\n",
    "plt.xlabel('Feature1', fontsize=8)\n",
    "plt.ylabel('Feature2', fontsize=8)\n",
    "plt.show()\n"
   ]
  },
  {
   "cell_type": "markdown",
   "id": "57295279",
   "metadata": {},
   "source": [
    "<h3 style='color:#196178'>Evaluation</h3> "
   ]
  },
  {
   "cell_type": "code",
   "execution_count": 20,
   "id": "14329dc7",
   "metadata": {},
   "outputs": [],
   "source": [
    "from sklearn.metrics import silhouette_score\n",
    "kmean_acc=silhouette_score(X,k_mean_pred)"
   ]
  },
  {
   "cell_type": "markdown",
   "id": "03779b3c",
   "metadata": {},
   "source": [
    "<h2 style='color:#196178'>2.Hierarchical Clustering</h2> \n",
    "<p>Hierarchical clustering is another unsupervised machine learning algorithm, which is used to group the unlabeled datasets into a cluster.In this algorithm, we develop the hierarchy of clusters in the form of a tree, and this tree-shaped structure is known as the dendrogram.Sometimes the results of K-means clustering and hierarchical clustering may look similar, but they both differ depending on how they work. As there is no requirement to predetermine the number of clusters as we did in the K-Means algorithm. </p>\n",
    "\n",
    "<h3 style='color:#196178'>Modeling</h3> "
   ]
  },
  {
   "cell_type": "code",
   "execution_count": 21,
   "id": "c244e24e",
   "metadata": {},
   "outputs": [],
   "source": [
    "from sklearn.cluster import AgglomerativeClustering\n",
    "hierar_clustering = AgglomerativeClustering(distance_threshold=0, n_clusters=None).fit(X)\n",
    "labels=np.array(K_means.labels_)\n",
    "labels=labels.reshape(-1,1)"
   ]
  },
  {
   "cell_type": "markdown",
   "id": "0ec7bb9e",
   "metadata": {},
   "source": [
    "<h3 style='color:#196178'>Insights</h3> \n",
    "We assign the labels to each row in the dataframe."
   ]
  },
  {
   "cell_type": "code",
   "execution_count": 22,
   "id": "9917ff93",
   "metadata": {},
   "outputs": [
    {
     "data": {
      "text/plain": [
       "array([['2', '1', '1', ..., '1', '2', '0'],\n",
       "       ['2', '1', '1', ..., '2', '3', '0'],\n",
       "       ['2', '2', '4', ..., '2', '2', '1'],\n",
       "       ...,\n",
       "       ['2', '1', '1', ..., '3', '4', '0'],\n",
       "       ['1', '5', '2', ..., '4', '4', '1'],\n",
       "       ['2', '3', '1', ..., '3', '1', '0']], dtype='<U13')"
      ]
     },
     "execution_count": 22,
     "metadata": {},
     "output_type": "execute_result"
    }
   ],
   "source": [
    "X_new=np.append(finaldata,labels,axis=1)\n",
    "X_new"
   ]
  },
  {
   "cell_type": "markdown",
   "id": "78e3f701",
   "metadata": {},
   "source": [
    "<i>Here last column represents to which cluster this data object belongs.</i>"
   ]
  },
  {
   "cell_type": "markdown",
   "id": "cdfdaf44",
   "metadata": {},
   "source": [
    "<h3 style='color:#196178'>Visualization</h3> "
   ]
  },
  {
   "cell_type": "code",
   "execution_count": 23,
   "id": "c4d4c06f",
   "metadata": {},
   "outputs": [
    {
     "data": {
      "image/png": "[encoded data removed]",
      "text/plain": [
       "<Figure size 640x480 with 1 Axes>"
      ]
     },
     "metadata": {},
     "output_type": "display_data"
    }
   ],
   "source": [
    "from scipy.cluster.hierarchy import dendrogram\n",
    "def plot_dendrogram(model, **kwargs):\n",
    "    # Create linkage matrix and then plot the dendrogram\n",
    "    # create the counts of samples under each node\n",
    "    counts = np.zeros(model.children_.shape[0])\n",
    "    n_samples = len(model.labels_)\n",
    "    for i, merge in enumerate(model.children_):\n",
    "        current_count = 0\n",
    "        for child_idx in merge:\n",
    "            if child_idx < n_samples:\n",
    "                current_count += 1  # leaf node\n",
    "            else:\n",
    "                current_count += counts[child_idx - n_samples]\n",
    "        counts[i] = current_count\n",
    "\n",
    "    linkage_matrix = np.column_stack(\n",
    "        [model.children_, model.distances_, counts]\n",
    "    ).astype(float)\n",
    "\n",
    "    # Plot the corresponding dendrogram\n",
    "    dendrogram(linkage_matrix, **kwargs)\n",
    "plot_dendrogram(hierar_clustering, truncate_mode=\"level\", p=3)"
   ]
  },
  {
   "cell_type": "markdown",
   "id": "a6b0fccc",
   "metadata": {},
   "source": [
    "<h2 style='color:#196178'>Comparison of K Means and Hierarchical Clustering</h2> "
   ]
  },
  {
   "cell_type": "markdown",
   "id": "cf7d0704",
   "metadata": {},
   "source": [
    "\n",
    "K-means clustering is a partition-based algorithm that requires specifying the number of clusters in advance and aims to minimize the within-cluster sum of squares. It is computationally efficient but sensitive to initial centroid placement. Hierarchical clustering, on the other hand, creates a hierarchy of clusters without the need for predefining the number of clusters. It provides a visual representation of the clustering structure but can be computationally expensive. The choice between the two depends on the dataset and specific requirements.\n",
    "\n",
    "<p style='color:red'><b>Note:Density-based clustering is not chosen for student performance data with numerical attributes because it is more suitable for datasets with irregular shapes and varying densities, whereas numeric data typically aligns better with the assumptions of K-means and hierarchical clustering algorithms.</b></p>"
   ]
  },
  {
   "cell_type": "code",
   "execution_count": null,
   "id": "2e75faa8",
   "metadata": {},
   "outputs": [],
   "source": []
  }
 ],
 "metadata": {
  "kernelspec": {
   "display_name": "Python 3 (ipykernel)",
   "language": "python",
   "name": "python3"
  },
  "language_info": {
   "codemirror_mode": {
    "name": "ipython",
    "version": 3
   },
   "file_extension": ".py",
   "mimetype": "text/x-python",
   "name": "python",
   "nbconvert_exporter": "python",
   "pygments_lexer": "ipython3",
   "version": "3.10.9"
  }
 },
 "nbformat": 4,
 "nbformat_minor": 5
}
